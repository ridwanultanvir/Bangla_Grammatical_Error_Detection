{
 "cells": [
  {
   "cell_type": "code",
   "execution_count": null,
   "metadata": {},
   "outputs": [],
   "source": []
  },
  {
   "cell_type": "code",
   "execution_count": 8,
   "metadata": {},
   "outputs": [
    {
     "name": "stdout",
     "output_type": "stream",
     "text": [
      "['আমেরিকা', 'এমেরিকা', 'আমেৰিকা', 'আমেরিকে', 'অমেরিকা', 'আমেরিকাঃ']\n"
     ]
    }
   ],
   "source": [
    "from google.transliteration import transliterate_word\n",
    "suggestions = transliterate_word('America', lang_code='bn')\n",
    "print(suggestions)"
   ]
  },
  {
   "cell_type": "code",
   "execution_count": null,
   "metadata": {},
   "outputs": [],
   "source": []
  },
  {
   "attachments": {},
   "cell_type": "markdown",
   "metadata": {},
   "source": [
    "# STEP1: eng_bn transiterate"
   ]
  },
  {
   "cell_type": "code",
   "execution_count": 19,
   "metadata": {},
   "outputs": [],
   "source": [
    "most_freq = 1000"
   ]
  },
  {
   "cell_type": "code",
   "execution_count": 20,
   "metadata": {},
   "outputs": [
    {
     "name": "stdout",
     "output_type": "stream",
     "text": [
      "{'himself', 'it', 'them', 'my', 'her', 'they', 'your', 'itself', 'yourself', 'herself', 'his', 'him', 'you', 'we', 'me', 'he', 'myself', 'ourselves', 'themselves', 'our', 'its', 'she', 'us', 'their'}\n",
      "{'as', 'with', 'through', \"weren't\", 'from', 'at', 'between', 'below', 'before', 'because', \"it's\", 'for', 'than', 'about', 'after', 'in', 'above', 'on', 'if', 'over', 'isn', 'during', 'while', 'until', 'of', 'against', 'under', 'that', 'by', 'into'}\n"
     ]
    },
    {
     "name": "stderr",
     "output_type": "stream",
     "text": [
      "[nltk_data] Downloading package averaged_perceptron_tagger to\n",
      "[nltk_data]     C:\\Users\\User\\AppData\\Roaming\\nltk_data...\n",
      "[nltk_data]   Package averaged_perceptron_tagger is already up-to-\n",
      "[nltk_data]       date!\n"
     ]
    }
   ],
   "source": [
    "import nltk\n",
    "nltk.download('averaged_perceptron_tagger')\n",
    "\n",
    "stopwords = set(nltk.corpus.stopwords.words('english'))\n",
    "pos_tags = nltk.pos_tag(stopwords)\n",
    "pronouns = set([word.lower() for (word, tag) in pos_tags if tag in ['PRP', 'PRP$']])\n",
    "pronouns.add('us'  )\n",
    "print(pronouns)\n",
    "prepositions = set([word.lower() for (word, tag) in pos_tags if tag == 'IN'])\n",
    "print(prepositions)"
   ]
  },
  {
   "cell_type": "code",
   "execution_count": 21,
   "metadata": {},
   "outputs": [],
   "source": [
    "import pandas as pd\n",
    "import nltk\n",
    "from nltk.corpus import stopwords\n",
    "# from indic_transliteration import sanscript\n",
    "\n",
    "# Read the unigram_freq.csv file\n",
    "df = pd.read_csv('unigram_freq.csv')\n",
    "\n",
    "# Remove stop words using NLTK\n",
    "stop_words = set(stopwords.words('english'))\n",
    "# ============= new add =========================\n",
    "\n",
    "df = df[~df['word'].isin(stop_words)]\n",
    "# ============= new add =========================\n",
    "df = df[~df['word'].isin(pronouns)]\n",
    "df = df[~df['word'].isin(prepositions)]\n",
    "\n",
    "# Take 10000 most frequent words\n",
    "df = df.nlargest(most_freq, 'count')\n"
   ]
  },
  {
   "cell_type": "code",
   "execution_count": 22,
   "metadata": {},
   "outputs": [
    {
     "data": {
      "text/html": [
       "<div>\n",
       "<style scoped>\n",
       "    .dataframe tbody tr th:only-of-type {\n",
       "        vertical-align: middle;\n",
       "    }\n",
       "\n",
       "    .dataframe tbody tr th {\n",
       "        vertical-align: top;\n",
       "    }\n",
       "\n",
       "    .dataframe thead th {\n",
       "        text-align: right;\n",
       "    }\n",
       "</style>\n",
       "<table border=\"1\" class=\"dataframe\">\n",
       "  <thead>\n",
       "    <tr style=\"text-align: right;\">\n",
       "      <th></th>\n",
       "      <th>word</th>\n",
       "      <th>count</th>\n",
       "    </tr>\n",
       "  </thead>\n",
       "  <tbody>\n",
       "    <tr>\n",
       "      <th>26</th>\n",
       "      <td>new</td>\n",
       "      <td>1551258643</td>\n",
       "    </tr>\n",
       "    <tr>\n",
       "      <th>32</th>\n",
       "      <td>home</td>\n",
       "      <td>1276852170</td>\n",
       "    </tr>\n",
       "    <tr>\n",
       "      <th>37</th>\n",
       "      <td>page</td>\n",
       "      <td>1082121730</td>\n",
       "    </tr>\n",
       "    <tr>\n",
       "      <th>40</th>\n",
       "      <td>search</td>\n",
       "      <td>1024093118</td>\n",
       "    </tr>\n",
       "    <tr>\n",
       "      <th>41</th>\n",
       "      <td>free</td>\n",
       "      <td>1014107316</td>\n",
       "    </tr>\n",
       "  </tbody>\n",
       "</table>\n",
       "</div>"
      ],
      "text/plain": [
       "      word       count\n",
       "26     new  1551258643\n",
       "32    home  1276852170\n",
       "37    page  1082121730\n",
       "40  search  1024093118\n",
       "41    free  1014107316"
      ]
     },
     "execution_count": 22,
     "metadata": {},
     "output_type": "execute_result"
    }
   ],
   "source": [
    "df.head(5)"
   ]
  },
  {
   "cell_type": "code",
   "execution_count": 23,
   "metadata": {},
   "outputs": [
    {
     "data": {
      "text/plain": [
       "(1000, 2)"
      ]
     },
     "execution_count": 23,
     "metadata": {},
     "output_type": "execute_result"
    }
   ],
   "source": [
    "df.shape"
   ]
  },
  {
   "cell_type": "code",
   "execution_count": 24,
   "metadata": {},
   "outputs": [],
   "source": [
    "from google.transliteration import transliterate_word\n",
    "# Define a function to transliterate a given string to Bengali script\n",
    "def transliterate_to_bengali(text):\n",
    "    suggestions = transliterate_word(text, lang_code='bn')\n",
    "    # print(\"suggestions: \", suggestions)\n",
    "    top_suggestion = suggestions[0]\n",
    "    return top_suggestion"
   ]
  },
  {
   "cell_type": "code",
   "execution_count": 27,
   "metadata": {},
   "outputs": [],
   "source": [
    "# save copy of df\n",
    "df_copy = df.copy()\n"
   ]
  },
  {
   "cell_type": "code",
   "execution_count": 26,
   "metadata": {},
   "outputs": [],
   "source": [
    "# split dataframe into 10 dataframes\n",
    "import numpy as np\n",
    "dfs = np.array_split(df, 10)\n",
    "\n",
    "# assign dataframes to separate variables\n",
    "df1, df2, df3, df4, df5, df6, df7, df8, df9, df10 = dfs"
   ]
  },
  {
   "cell_type": "code",
   "execution_count": 28,
   "metadata": {},
   "outputs": [
    {
     "name": "stdout",
     "output_type": "stream",
     "text": [
      "df_ 1\n",
      "    word       count\n",
      "26   new  1551258643\n",
      "32  home  1276852170\n",
      "df_ 2\n",
      "         word      count\n",
      "190   general  311757793\n",
      "191  research  311538382\n",
      "df_ 3\n",
      "         word      count\n",
      "301    county  227567373\n",
      "302  american  227534978\n",
      "df_ 4\n",
      "        word      count\n",
      "407  include  182579275\n",
      "408  college  182545426\n",
      "df_ 5\n",
      "            word      count\n",
      "508  application  152776595\n",
      "509         cart  152155277\n",
      "df_ 6\n",
      "      word      count\n",
      "613  write  126645151\n",
      "614    war  126517399\n",
      "df_ 7\n",
      "     word      count\n",
      "715  sure  110528740\n",
      "716   faq  110323671\n",
      "df_ 8\n",
      "        word     count\n",
      "817  hosting  97747750\n",
      "818    rules  97658641\n",
      "df_ 9\n",
      "        word     count\n",
      "917   beauty  87572240\n",
      "918  manager  87441704\n",
      "df_ 10\n",
      "         word     count\n",
      "1018     pics  79323162\n",
      "1019  western  79255339\n"
     ]
    }
   ],
   "source": [
    "for i, df in enumerate(dfs):\n",
    "    print(\"df_\", i+1)\n",
    "    print(df.head(2))\n",
    "    df['bangla'] = df['word'].apply(transliterate_to_bengali)\n",
    "    df = df.rename(columns={'word': 'english'})\n",
    "    df.to_csv(f'df{i+1}.csv', index=False)\n"
   ]
  },
  {
   "cell_type": "code",
   "execution_count": 29,
   "metadata": {},
   "outputs": [
    {
     "data": {
      "text/plain": [
       "(1000, 3)"
      ]
     },
     "execution_count": 29,
     "metadata": {},
     "output_type": "execute_result"
    }
   ],
   "source": [
    "df_merge = pd.concat([df1, df2, df3, df4, df5, df6, df7, df8, df9, df10], ignore_index=True)\n",
    "df_merge.shape\n"
   ]
  },
  {
   "cell_type": "code",
   "execution_count": 30,
   "metadata": {},
   "outputs": [
    {
     "data": {
      "text/html": [
       "<div>\n",
       "<style scoped>\n",
       "    .dataframe tbody tr th:only-of-type {\n",
       "        vertical-align: middle;\n",
       "    }\n",
       "\n",
       "    .dataframe tbody tr th {\n",
       "        vertical-align: top;\n",
       "    }\n",
       "\n",
       "    .dataframe thead th {\n",
       "        text-align: right;\n",
       "    }\n",
       "</style>\n",
       "<table border=\"1\" class=\"dataframe\">\n",
       "  <thead>\n",
       "    <tr style=\"text-align: right;\">\n",
       "      <th></th>\n",
       "      <th>word</th>\n",
       "      <th>count</th>\n",
       "      <th>bangla</th>\n",
       "    </tr>\n",
       "  </thead>\n",
       "  <tbody>\n",
       "    <tr>\n",
       "      <th>0</th>\n",
       "      <td>new</td>\n",
       "      <td>1551258643</td>\n",
       "      <td>নিউ</td>\n",
       "    </tr>\n",
       "    <tr>\n",
       "      <th>1</th>\n",
       "      <td>home</td>\n",
       "      <td>1276852170</td>\n",
       "      <td>হোম</td>\n",
       "    </tr>\n",
       "    <tr>\n",
       "      <th>2</th>\n",
       "      <td>page</td>\n",
       "      <td>1082121730</td>\n",
       "      <td>পেজ</td>\n",
       "    </tr>\n",
       "    <tr>\n",
       "      <th>3</th>\n",
       "      <td>search</td>\n",
       "      <td>1024093118</td>\n",
       "      <td>সার্চ</td>\n",
       "    </tr>\n",
       "    <tr>\n",
       "      <th>4</th>\n",
       "      <td>free</td>\n",
       "      <td>1014107316</td>\n",
       "      <td>ফ্রি</td>\n",
       "    </tr>\n",
       "  </tbody>\n",
       "</table>\n",
       "</div>"
      ],
      "text/plain": [
       "     word       count bangla\n",
       "0     new  1551258643    নিউ\n",
       "1    home  1276852170    হোম\n",
       "2    page  1082121730    পেজ\n",
       "3  search  1024093118  সার্চ\n",
       "4    free  1014107316   ফ্রি"
      ]
     },
     "execution_count": 30,
     "metadata": {},
     "output_type": "execute_result"
    }
   ],
   "source": [
    "df_merge.head(5)"
   ]
  },
  {
   "cell_type": "code",
   "execution_count": 32,
   "metadata": {},
   "outputs": [],
   "source": [
    "df_merge = df_merge.rename(columns={'word': 'english'})"
   ]
  },
  {
   "cell_type": "code",
   "execution_count": 33,
   "metadata": {},
   "outputs": [],
   "source": [
    "# divide the 'count' column values by 1 million to convert to millions range\n",
    "df_merge['count_millions'] = df_merge['count'] // 1000000\n",
    "df_merge = df_merge[['english', 'bangla', 'count','count_millions']]"
   ]
  },
  {
   "cell_type": "code",
   "execution_count": null,
   "metadata": {},
   "outputs": [],
   "source": []
  },
  {
   "cell_type": "code",
   "execution_count": 34,
   "metadata": {},
   "outputs": [],
   "source": [
    "df_merge.to_csv('en_bn.csv', index=False)\n"
   ]
  },
  {
   "cell_type": "code",
   "execution_count": null,
   "metadata": {},
   "outputs": [],
   "source": []
  }
 ],
 "metadata": {
  "kernelspec": {
   "display_name": "ml_env",
   "language": "python",
   "name": "python3"
  },
  "language_info": {
   "codemirror_mode": {
    "name": "ipython",
    "version": 3
   },
   "file_extension": ".py",
   "mimetype": "text/x-python",
   "name": "python",
   "nbconvert_exporter": "python",
   "pygments_lexer": "ipython3",
   "version": "3.10.8"
  },
  "orig_nbformat": 4,
  "vscode": {
   "interpreter": {
    "hash": "065f01d7f979c895d1d0ceb36265384114dc012dca8df1b5cf5e1949e9669c42"
   }
  }
 },
 "nbformat": 4,
 "nbformat_minor": 2
}
