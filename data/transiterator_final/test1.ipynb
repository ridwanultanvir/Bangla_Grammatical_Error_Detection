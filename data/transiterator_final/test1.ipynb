{
 "cells": [
  {
   "cell_type": "code",
   "execution_count": 1,
   "metadata": {},
   "outputs": [],
   "source": [
    "import pandas as pd\n",
    "\n",
    "## read en_bn.csv\n",
    "df = pd.read_csv('en_bn.csv')\n"
   ]
  },
  {
   "cell_type": "code",
   "execution_count": 2,
   "metadata": {},
   "outputs": [
    {
     "data": {
      "text/plain": [
       "(968, 4)"
      ]
     },
     "execution_count": 2,
     "metadata": {},
     "output_type": "execute_result"
    }
   ],
   "source": [
    "df.shape"
   ]
  },
  {
   "cell_type": "code",
   "execution_count": 3,
   "metadata": {},
   "outputs": [],
   "source": [
    "import pandas as pd\n",
    "import nltk\n",
    "\n",
    "# Load the processed data csv file into a pandas dataframe\n",
    "df_processed = pd.read_csv('data_v2_processed_500.csv')\n",
    "\n",
    "# Load the en_bn.csv file into another dataframe\n",
    "df_en_bn = pd.read_csv('en_bn.csv')\n",
    "\n",
    "# Create a set of all words in the 'bangla' column\n",
    "bangla_words = set(df_en_bn['bangla'].str.lower())\n",
    "\n",
    "# Tokenize each sentence in the 'correct_sentence' column using NLTK\n",
    "df_processed['tokens'] = df_processed['correct_sentence'].apply(nltk.word_tokenize)\n",
    "\n",
    "# Find the sentences that match any words in the 'bangla' column\n",
    "df_matched = df_processed[df_processed['tokens'].apply(lambda x: any(word.lower() in bangla_words for word in x))]\n",
    "\n",
    "# Find the specific 'bangla' token that matches each sentence\n",
    "df_matched = df_matched.loc[:, ['correct_sentence', 'tokens']].copy()\n",
    "df_matched['matched_token'] = df_matched['tokens'].apply(lambda x: next((word for word in x if word.lower() in bangla_words), None))\n"
   ]
  },
  {
   "cell_type": "code",
   "execution_count": 4,
   "metadata": {},
   "outputs": [
    {
     "data": {
      "text/plain": [
       "(274, 3)"
      ]
     },
     "execution_count": 4,
     "metadata": {},
     "output_type": "execute_result"
    }
   ],
   "source": [
    "df_matched.shape"
   ]
  },
  {
   "cell_type": "code",
   "execution_count": 5,
   "metadata": {},
   "outputs": [],
   "source": [
    "\n",
    "# Save the 'correct_sentence' and 'matched_token' columns to the 'test1.csv' file\n",
    "df_matched[['correct_sentence', 'matched_token']].to_csv('trans1.csv', index=False)\n",
    "df_matched[['correct_sentence']].to_csv('trans2.csv', index=False)"
   ]
  },
  {
   "cell_type": "code",
   "execution_count": null,
   "metadata": {},
   "outputs": [],
   "source": []
  }
 ],
 "metadata": {
  "kernelspec": {
   "display_name": "ml_env",
   "language": "python",
   "name": "python3"
  },
  "language_info": {
   "codemirror_mode": {
    "name": "ipython",
    "version": 3
   },
   "file_extension": ".py",
   "mimetype": "text/x-python",
   "name": "python",
   "nbconvert_exporter": "python",
   "pygments_lexer": "ipython3",
   "version": "3.10.8"
  },
  "orig_nbformat": 4,
  "vscode": {
   "interpreter": {
    "hash": "065f01d7f979c895d1d0ceb36265384114dc012dca8df1b5cf5e1949e9669c42"
   }
  }
 },
 "nbformat": 4,
 "nbformat_minor": 2
}
