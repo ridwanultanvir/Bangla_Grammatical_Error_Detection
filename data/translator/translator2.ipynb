{
 "cells": [
  {
   "cell_type": "code",
   "execution_count": null,
   "metadata": {},
   "outputs": [],
   "source": []
  },
  {
   "attachments": {},
   "cell_type": "markdown",
   "metadata": {},
   "source": [
    "# REPLACE only the ENGLISH word "
   ]
  },
  {
   "cell_type": "code",
   "execution_count": 14,
   "metadata": {},
   "outputs": [],
   "source": [
    "import pandas as pd\n",
    "\n",
    "# Read in the CSV files\n",
    "df_sentences = pd.read_csv('data.csv')\n",
    "df_english_bangla = pd.read_csv('english_bangla.csv')\n",
    "\n",
    "# Create a dictionary mapping Bangla words to English words\n",
    "bangla_to_english = dict(zip(df_english_bangla['Bangla'], df_english_bangla['English']))\n",
    "\n",
    "# Define a function to replace Bangla words with English words\n",
    "def replace_bangla_with_english(sentence):\n",
    "    # Split the sentence into words\n",
    "    words = sentence.split()\n",
    "    # Replace any Bangla words with their English equivalents if they are present in the english_bangla.csv file\n",
    "    for i, word in enumerate(words):\n",
    "        if word in bangla_to_english:\n",
    "            words[i] = bangla_to_english[word]\n",
    "    # Join the words back together into a sentence\n",
    "    english_sentence = ' '.join(words)\n",
    "    return english_sentence\n",
    "\n",
    "# Apply the function to the \"correct_sentence\" column of the sentences DataFrame\n",
    "df_sentences['sentence'] = df_sentences['correct_sentence'].apply(replace_bangla_with_english)\n",
    "\n",
    "# Drop any rows where the two columns are identical\n",
    "df_sentences = df_sentences[df_sentences['correct_sentence'] != df_sentences['sentence']]\n",
    "\n",
    "# Write the DataFrame to a new CSV file\n",
    "df_sentences[['correct_sentence', 'sentence']].to_csv('translated.csv', index=False)\n"
   ]
  },
  {
   "cell_type": "code",
   "execution_count": null,
   "metadata": {},
   "outputs": [],
   "source": []
  },
  {
   "cell_type": "code",
   "execution_count": null,
   "metadata": {},
   "outputs": [],
   "source": []
  },
  {
   "attachments": {},
   "cell_type": "markdown",
   "metadata": {},
   "source": [
    "# only 1 words"
   ]
  },
  {
   "cell_type": "code",
   "execution_count": 9,
   "metadata": {},
   "outputs": [],
   "source": [
    "import pandas as pd\n",
    "\n",
    "# Read in the CSV files\n",
    "df_sentences = pd.read_csv('data.csv')\n",
    "df_english_bangla = pd.read_csv('english_bangla.csv')\n",
    "\n",
    "# Create a dictionary mapping Bangla words to English words\n",
    "bangla_to_english = dict(zip(df_english_bangla['Bangla'], df_english_bangla['English']))\n",
    "\n",
    "\n"
   ]
  },
  {
   "cell_type": "code",
   "execution_count": 10,
   "metadata": {},
   "outputs": [],
   "source": [
    "# Define a function to replace Bangla words with English words\n",
    "def replace_bangla_with_english(sentence):\n",
    "    # Split the sentence into words\n",
    "    words = sentence.split()\n",
    "    # Replace any Bangla words with their English equivalents if they are present in the english_bangla.csv file\n",
    "    words = [bangla_to_english.get(word, word) for word in words if word in bangla_to_english]\n",
    "    # Join the words back together into a sentence\n",
    "    english_sentence = ' '.join(words)\n",
    "    return english_sentence"
   ]
  },
  {
   "cell_type": "code",
   "execution_count": 11,
   "metadata": {},
   "outputs": [],
   "source": [
    "\n",
    "# Apply the function to the \"correct_sentence\" column of the sentences DataFrame\n",
    "df_sentences['sentence'] = df_sentences['correct_sentence'].apply(replace_bangla_with_english)\n",
    "\n",
    "# Drop any rows where the two columns are identical\n",
    "df_sentences = df_sentences[df_sentences['correct_sentence'] != df_sentences['sentence']]\n",
    "\n",
    "# Write the DataFrame to a new CSV file\n",
    "df_sentences[['correct_sentence', 'sentence']].to_csv('output.csv', index=False)\n"
   ]
  },
  {
   "cell_type": "code",
   "execution_count": 12,
   "metadata": {},
   "outputs": [
    {
     "data": {
      "text/plain": [
       "(1000, 2)"
      ]
     },
     "execution_count": 12,
     "metadata": {},
     "output_type": "execute_result"
    }
   ],
   "source": [
    "df_sentences.shape"
   ]
  },
  {
   "cell_type": "code",
   "execution_count": 13,
   "metadata": {},
   "outputs": [
    {
     "data": {
      "text/html": [
       "<div>\n",
       "<style scoped>\n",
       "    .dataframe tbody tr th:only-of-type {\n",
       "        vertical-align: middle;\n",
       "    }\n",
       "\n",
       "    .dataframe tbody tr th {\n",
       "        vertical-align: top;\n",
       "    }\n",
       "\n",
       "    .dataframe thead th {\n",
       "        text-align: right;\n",
       "    }\n",
       "</style>\n",
       "<table border=\"1\" class=\"dataframe\">\n",
       "  <thead>\n",
       "    <tr style=\"text-align: right;\">\n",
       "      <th></th>\n",
       "      <th>correct_sentence</th>\n",
       "      <th>sentence</th>\n",
       "    </tr>\n",
       "  </thead>\n",
       "  <tbody>\n",
       "    <tr>\n",
       "      <th>0</th>\n",
       "      <td>আজ থেকে নির্বাচনী প্রচারণা শুরু হয়েছে</td>\n",
       "      <td></td>\n",
       "    </tr>\n",
       "    <tr>\n",
       "      <th>1</th>\n",
       "      <td>ওয়ানডেতে ৫২.৯৩ গড়ের কোহলির টি-টোয়েন্টি গড় ৫৭.১...</td>\n",
       "      <td></td>\n",
       "    </tr>\n",
       "    <tr>\n",
       "      <th>2</th>\n",
       "      <td>ভিটামিন সি-এর ভালো উৎস হলো নানা ধরনের ফল</td>\n",
       "      <td></td>\n",
       "    </tr>\n",
       "    <tr>\n",
       "      <th>3</th>\n",
       "      <td>গত দুই বছর ধরে ইউনিয়নের মানুষের খেদমত করে যাচ্ছি</td>\n",
       "      <td>two year</td>\n",
       "    </tr>\n",
       "    <tr>\n",
       "      <th>4</th>\n",
       "      <td>দমকা হাওয়া প্রকৃতিতে জানান দিচ্ছে বৈশাখ আসছে</td>\n",
       "      <td></td>\n",
       "    </tr>\n",
       "  </tbody>\n",
       "</table>\n",
       "</div>"
      ],
      "text/plain": [
       "                                    correct_sentence  sentence\n",
       "0              আজ থেকে নির্বাচনী প্রচারণা শুরু হয়েছে          \n",
       "1  ওয়ানডেতে ৫২.৯৩ গড়ের কোহলির টি-টোয়েন্টি গড় ৫৭.১...          \n",
       "2           ভিটামিন সি-এর ভালো উৎস হলো নানা ধরনের ফল          \n",
       "3   গত দুই বছর ধরে ইউনিয়নের মানুষের খেদমত করে যাচ্ছি  two year\n",
       "4       দমকা হাওয়া প্রকৃতিতে জানান দিচ্ছে বৈশাখ আসছে          "
      ]
     },
     "execution_count": 13,
     "metadata": {},
     "output_type": "execute_result"
    }
   ],
   "source": [
    "df_sentences.head(5)"
   ]
  },
  {
   "cell_type": "code",
   "execution_count": 7,
   "metadata": {},
   "outputs": [
    {
     "data": {
      "text/plain": [
       "(49, 2)"
      ]
     },
     "execution_count": 7,
     "metadata": {},
     "output_type": "execute_result"
    }
   ],
   "source": [
    "df_sentences.shape"
   ]
  },
  {
   "cell_type": "code",
   "execution_count": 8,
   "metadata": {},
   "outputs": [],
   "source": [
    "\n",
    "# Write the DataFrame to a new CSV file\n",
    "df_sentences.to_csv('translated.csv', index=False)"
   ]
  },
  {
   "cell_type": "code",
   "execution_count": null,
   "metadata": {},
   "outputs": [],
   "source": [
    "df_sentences.head(5)"
   ]
  },
  {
   "cell_type": "code",
   "execution_count": null,
   "metadata": {},
   "outputs": [],
   "source": []
  }
 ],
 "metadata": {
  "kernelspec": {
   "display_name": "ml_env",
   "language": "python",
   "name": "python3"
  },
  "language_info": {
   "codemirror_mode": {
    "name": "ipython",
    "version": 3
   },
   "file_extension": ".py",
   "mimetype": "text/x-python",
   "name": "python",
   "nbconvert_exporter": "python",
   "pygments_lexer": "ipython3",
   "version": "3.10.8"
  },
  "orig_nbformat": 4,
  "vscode": {
   "interpreter": {
    "hash": "065f01d7f979c895d1d0ceb36265384114dc012dca8df1b5cf5e1949e9669c42"
   }
  }
 },
 "nbformat": 4,
 "nbformat_minor": 2
}
