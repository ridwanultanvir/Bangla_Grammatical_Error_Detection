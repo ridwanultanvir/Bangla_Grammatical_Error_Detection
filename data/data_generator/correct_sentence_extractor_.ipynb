{
 "cells": [
  {
   "cell_type": "code",
   "execution_count": 1,
   "metadata": {},
   "outputs": [],
   "source": [
    "import pandas\n",
    "import json\n",
    "\n",
    "# read json file\n",
    "json_file_name = '../../../archive/data_v2/data_v2.json'\n",
    "output_csv_file_name = '../../../archive/data_v2/data_v2_processed.csv'\n",
    "obj = json.load(open(json_file_name))\n"
   ]
  },
  {
   "cell_type": "code",
   "execution_count": 2,
   "metadata": {},
   "outputs": [],
   "source": [
    "# all distinct obj[0]['category']\n",
    "# x = set([i['category_bn'] for i in obj])\n",
    "# x"
   ]
  },
  {
   "cell_type": "code",
   "execution_count": 2,
   "metadata": {},
   "outputs": [],
   "source": [
    "def split_to_sentence(text:str) -> list:\n",
    "    # print(type(text))\n",
    "    assert type(text) == str\n",
    "    ret = [x.strip() for x in text.split('।')]\n",
    "    ret = [x for x in ret if x!='']\n",
    "    ret = [y for y in ret if y!='' and any(ch in y for ch in ['’','\\'','\"','‘','$']) == False ]\n",
    "    # print(\"ret: \", ret)\n",
    "    return ret"
   ]
  },
  {
   "cell_type": "code",
   "execution_count": 4,
   "metadata": {},
   "outputs": [
    {
     "data": {
      "text/plain": [
       "['fda', 'fdasdfa']"
      ]
     },
     "execution_count": 4,
     "metadata": {},
     "output_type": "execute_result"
    }
   ],
   "source": [
    "split_to_sentence(\"adfa , gfasdf  \\\" ।   fda । fdasdfa । \\\" \\\" ।\")"
   ]
  },
  {
   "cell_type": "code",
   "execution_count": 5,
   "metadata": {},
   "outputs": [],
   "source": [
    "# split_to_sentance(obj[0]['title'])\n",
    "# create dataframe with header correct sentence having obj[i]['title'] and obj[i]['content']\n",
    "# print('type of obj', type(obj))\n",
    "df = pandas.DataFrame(columns=['correct_sentence'], data=[\n",
    "    {'correct_sentence': x}\n",
    "    for x in [item for sublist in  [split_to_sentence(y['content']) for y in obj if y['category']!= 'education'] for item in sublist]\n",
    "    ])\n"
   ]
  },
  {
   "cell_type": "code",
   "execution_count": 6,
   "metadata": {},
   "outputs": [],
   "source": [
    "df.to_csv(output_csv_file_name, index=False)"
   ]
  },
  {
   "cell_type": "code",
   "execution_count": 7,
   "metadata": {},
   "outputs": [],
   "source": [
    "# exit()"
   ]
  },
  {
   "cell_type": "code",
   "execution_count": 8,
   "metadata": {},
   "outputs": [],
   "source": [
    "# reaad csv file\n",
    "# import pandas\n",
    "\n",
    "# df = pandas.read_csv('../../../archive/data_v2/data_v2_processed.csv')\n"
   ]
  },
  {
   "cell_type": "code",
   "execution_count": 7,
   "metadata": {},
   "outputs": [],
   "source": [
    "# save only first 500 rows\n",
    "dfshuffle = df.sample(frac=1).reset_index(drop=True)\n",
    "# dfshuffle = df\n",
    "df2 = dfshuffle[:1000]\n",
    "df2.to_csv('../../../archive/data_v2/data_v2_processed_500.csv', index=False)"
   ]
  }
 ],
 "metadata": {
  "kernelspec": {
   "display_name": "Python 3",
   "language": "python",
   "name": "python3"
  },
  "language_info": {
   "codemirror_mode": {
    "name": "ipython",
    "version": 3
   },
   "file_extension": ".py",
   "mimetype": "text/x-python",
   "name": "python",
   "nbconvert_exporter": "python",
   "pygments_lexer": "ipython3",
   "version": "3.10.2"
  },
  "orig_nbformat": 4,
  "vscode": {
   "interpreter": {
    "hash": "afb734500600fd355917ca529030176ea0ca205570884b88f2f6f7d791fd3fbe"
   }
  }
 },
 "nbformat": 4,
 "nbformat_minor": 2
}
