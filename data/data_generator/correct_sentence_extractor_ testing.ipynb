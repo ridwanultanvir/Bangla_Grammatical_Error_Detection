{
 "cells": [
  {
   "cell_type": "code",
   "execution_count": 1,
   "metadata": {},
   "outputs": [],
   "source": [
    "import pandas\n",
    "import json\n",
    "\n",
    "# read json file\n",
    "json_file_name = '../../../archive/data_v2/data_v2.json'\n",
    "output_csv_file_name = '../../../archive/data_v2/data_v2_processed.csv'\n",
    "obj = json.load(open(json_file_name))\n",
    "\n"
   ]
  },
  {
   "cell_type": "code",
   "execution_count": null,
   "metadata": {},
   "outputs": [],
   "source": [
    "def split_to_sentence(text:str) -> list:\n",
    "    # print(type(text))\n",
    "    assert type(text) == str\n",
    "    return [x.strip() for x in text.split('।') if x.strip() != '']"
   ]
  },
  {
   "cell_type": "code",
   "execution_count": null,
   "metadata": {},
   "outputs": [],
   "source": [
    "# split_to_sentance(obj[0]['title'])\n",
    "# create dataframe with header correct sentence having obj[i]['title'] and obj[i]['content']\n",
    "# print('type of obj', type(obj))\n",
    "df = pandas.DataFrame(columns=['correct_sentence'], data=[\n",
    "    {'correct_sentence': x} for x in [split_to_sentence(y['title']) for y in obj]+\n",
    "    [split_to_sentence(y['content']) for y in obj]\n",
    "    ])\n"
   ]
  },
  {
   "cell_type": "code",
   "execution_count": null,
   "metadata": {},
   "outputs": [],
   "source": [
    "df.to_csv(output_csv_file_name, index=False)"
   ]
  }
 ],
 "metadata": {
  "kernelspec": {
   "display_name": "Python 3",
   "language": "python",
   "name": "python3"
  },
  "language_info": {
   "codemirror_mode": {
    "name": "ipython",
    "version": 3
   },
   "file_extension": ".py",
   "mimetype": "text/x-python",
   "name": "python",
   "nbconvert_exporter": "python",
   "pygments_lexer": "ipython3",
   "version": "3.10.2"
  },
  "orig_nbformat": 4,
  "vscode": {
   "interpreter": {
    "hash": "afb734500600fd355917ca529030176ea0ca205570884b88f2f6f7d791fd3fbe"
   }
  }
 },
 "nbformat": 4,
 "nbformat_minor": 2
}
