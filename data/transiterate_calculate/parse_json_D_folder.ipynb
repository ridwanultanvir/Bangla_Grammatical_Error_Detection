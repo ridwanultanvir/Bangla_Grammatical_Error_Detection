{
 "cells": [
  {
   "cell_type": "code",
   "execution_count": 1,
   "metadata": {},
   "outputs": [],
   "source": [
    "    # import pandas\n",
    "    # import json\n",
    "\n",
    "    # # read json file\n",
    "    # json_file_name = '../../../archive/data_v2/data_v2.json'\n",
    "    # output_csv_file_name = '../../../archive/data_v2/data_v2_processed.csv'\n",
    "    # obj = json.load(open(json_file_name))\n"
   ]
  },
  {
   "cell_type": "code",
   "execution_count": 2,
   "metadata": {},
   "outputs": [],
   "source": [
    "import pandas as pd\n",
    "import json\n",
    "\n",
    "# read json file\n",
    "json_file_name = r'D:\\download_D\\data_v2\\data_v2.json'\n",
    "output_csv_file_name = r'D:\\download_D\\data_v2\\data_v2_processed.csv'\n",
    "obj = json.load(open(json_file_name))\n"
   ]
  },
  {
   "cell_type": "code",
   "execution_count": 3,
   "metadata": {},
   "outputs": [],
   "source": [
    "# all distinct obj[0]['category']\n",
    "# x = set([i['category_bn'] for i in obj])\n",
    "# x"
   ]
  },
  {
   "cell_type": "code",
   "execution_count": 4,
   "metadata": {},
   "outputs": [],
   "source": [
    "def split_to_sentence(text:str) -> list:\n",
    "    # print(type(text))\n",
    "    assert type(text) == str\n",
    "    # text = text.replace('।\\’','’')\n",
    "    return [y for y in [x.strip() for x in text.split('।')] if y!='' and\n",
    "            any(ch in y for ch in ['’','\\'','\"','\\‘']) == False ]"
   ]
  },
  {
   "cell_type": "code",
   "execution_count": 6,
   "metadata": {},
   "outputs": [],
   "source": [
    "# split_to_sentance(obj[0]['title'])\n",
    "# create dataframe with header correct sentence having obj[i]['title'] and obj[i]['content']\n",
    "# print('type of obj', type(obj))\n",
    "df = pd.DataFrame(columns=['correct_sentence'], data=[\n",
    "    {'correct_sentence': x} \n",
    "    # for x in [split_to_sentence(y['title']) for y in obj]+\n",
    "    for x in [item for sublist in  [split_to_sentence(y['content']) for y in obj if y['category']!= 'education'] for item in sublist]\n",
    "    ])\n"
   ]
  },
  {
   "cell_type": "code",
   "execution_count": 7,
   "metadata": {},
   "outputs": [],
   "source": [
    "df.to_csv(output_csv_file_name, index=False)"
   ]
  },
  {
   "cell_type": "code",
   "execution_count": 8,
   "metadata": {},
   "outputs": [
    {
     "ename": "",
     "evalue": "",
     "output_type": "error",
     "traceback": [
      "\u001b[1;31mThe Kernel crashed while executing code in the the current cell or a previous cell. Please review the code in the cell(s) to identify a possible cause of the failure. Click <a href='https://aka.ms/vscodeJupyterKernelCrash'>here</a> for more info. View Jupyter <a href='command:jupyter.viewOutput'>log</a> for further details."
     ]
    }
   ],
   "source": [
    "# exit()"
   ]
  },
  {
   "cell_type": "code",
   "execution_count": 1,
   "metadata": {},
   "outputs": [],
   "source": [
    "# reaad csv file\n",
    "# r'D:\\download_D\\data_v2\\data_v2.json'\n",
    "import pandas\n",
    "\n",
    "df = pandas.read_csv(r'D:\\download_D\\data_v2\\data_v2_processed.csv')\n",
    "# shuffle df\n",
    "df = df.sample(frac=1).reset_index(drop=True)\n"
   ]
  },
  {
   "cell_type": "code",
   "execution_count": 3,
   "metadata": {},
   "outputs": [],
   "source": [
    "# save only first 500 rows\n",
    "dfshuffle = df.sample(frac=1).reset_index(drop=True)\n",
    "# dfshuffle = df\n",
    "df2 = dfshuffle[:1000]\n",
    "df2.to_csv(r'D:\\download_D\\data_v2\\data_v2_processed_500.csv', index=False)"
   ]
  },
  {
   "cell_type": "code",
   "execution_count": null,
   "metadata": {},
   "outputs": [],
   "source": []
  }
 ],
 "metadata": {
  "kernelspec": {
   "display_name": "ml_env",
   "language": "python",
   "name": "python3"
  },
  "language_info": {
   "codemirror_mode": {
    "name": "ipython",
    "version": 3
   },
   "file_extension": ".py",
   "mimetype": "text/x-python",
   "name": "python",
   "nbconvert_exporter": "python",
   "pygments_lexer": "ipython3",
   "version": "3.10.8"
  },
  "orig_nbformat": 4,
  "vscode": {
   "interpreter": {
    "hash": "065f01d7f979c895d1d0ceb36265384114dc012dca8df1b5cf5e1949e9669c42"
   }
  }
 },
 "nbformat": 4,
 "nbformat_minor": 2
}
