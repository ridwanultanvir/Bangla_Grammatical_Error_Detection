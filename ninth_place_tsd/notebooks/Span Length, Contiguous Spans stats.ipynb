{
 "metadata": {
  "language_info": {
   "codemirror_mode": {
    "name": "ipython",
    "version": 3
   },
   "file_extension": ".py",
   "mimetype": "text/x-python",
   "name": "python",
   "nbconvert_exporter": "python",
   "pygments_lexer": "ipython3",
   "version": "3.8.3-final"
  },
  "orig_nbformat": 2,
  "kernelspec": {
   "name": "python3",
   "display_name": "Python 3",
   "language": "python"
  }
 },
 "nbformat": 4,
 "nbformat_minor": 2,
 "cells": [
  {
   "cell_type": "code",
   "execution_count": 1,
   "metadata": {},
   "outputs": [],
   "source": [
    "train_file = './data/tsd_train.csv'\n",
    "trial_file = './data/tsd_trial.csv'\n",
    "test_file = './data/tsd_test_spans.csv'"
   ]
  },
  {
   "cell_type": "code",
   "execution_count": 2,
   "metadata": {},
   "outputs": [],
   "source": [
    "all_files = [train_file,trial_file, test_file]"
   ]
  },
  {
   "cell_type": "code",
   "execution_count": 3,
   "metadata": {},
   "outputs": [],
   "source": [
    "import pandas as pd\n",
    "import numpy as np"
   ]
  },
  {
   "cell_type": "code",
   "execution_count": 4,
   "metadata": {},
   "outputs": [
    {
     "output_type": "stream",
     "name": "stdout",
     "text": [
      "/home/crocoder/Desktop/ToxicSpansDetection/toxic-spans-detection\n"
     ]
    }
   ],
   "source": [
    "%cd .."
   ]
  },
  {
   "cell_type": "code",
   "execution_count": 5,
   "metadata": {},
   "outputs": [],
   "source": [
    "from evaluation.fix_spans import _contiguous_ranges"
   ]
  },
  {
   "cell_type": "code",
   "execution_count": 6,
   "metadata": {},
   "outputs": [],
   "source": [
    "fil = all_files[0]\n",
    "spans = pd.read_csv(fil)['spans'].apply(eval)\n",
    "texts = pd.read_csv(fil)['text']"
   ]
  },
  {
   "cell_type": "code",
   "execution_count": 7,
   "metadata": {},
   "outputs": [
    {
     "output_type": "execute_result",
     "data": {
      "text/plain": [
       "\"Agreed. I wouldn't call Trump an idiot - just an embarrassingly uninformed, ignorant, inarticulate, bumbling nincompoop. POTUS, in its first 100 days, is fast on its way to losing all credibility.\""
      ]
     },
     "metadata": {},
     "execution_count": 7
    }
   ],
   "source": [
    "texts[205]"
   ]
  },
  {
   "cell_type": "code",
   "execution_count": 8,
   "metadata": {},
   "outputs": [
    {
     "output_type": "execute_result",
     "data": {
      "text/plain": [
       "[(33, 37), (76, 83)]"
      ]
     },
     "metadata": {},
     "execution_count": 8
    }
   ],
   "source": [
    "_contiguous_ranges(spans[205])"
   ]
  },
  {
   "cell_type": "code",
   "execution_count": 9,
   "metadata": {},
   "outputs": [
    {
     "output_type": "execute_result",
     "data": {
      "text/plain": [
       "'idiot'"
      ]
     },
     "metadata": {},
     "execution_count": 9
    }
   ],
   "source": [
    "texts[205][33:38]"
   ]
  },
  {
   "cell_type": "code",
   "execution_count": 10,
   "metadata": {},
   "outputs": [
    {
     "output_type": "execute_result",
     "data": {
      "text/plain": [
       "'ignorant'"
      ]
     },
     "metadata": {},
     "execution_count": 10
    }
   ],
   "source": [
    "texts[205][76:84]"
   ]
  },
  {
   "cell_type": "code",
   "execution_count": 11,
   "metadata": {
    "tags": []
   },
   "outputs": [
    {
     "output_type": "stream",
     "name": "stdout",
     "text": [
      "./data/tsd_train.csv\n",
      "./data/tsd_trial.csv\n",
      "./data/tsd_test_spans.csv\n"
     ]
    }
   ],
   "source": [
    "dic = {\n",
    "\"Num Contiguous Spans(Mean)\":[],\n",
    "\"Num Contiguous Spans(Std)\":[],\n",
    "\"Num Contiguous Spans(Max)\":[],\n",
    "\"Num Contiguous Spans(Min)\":[],\n",
    "\"Len Contiguous Spans(Mean)\":[],\n",
    "\"Len Contiguous Spans(Std)\":[],\n",
    "\"Len Contiguous Spans(Max)\":[],\n",
    "\"Len Contiguous Spans(Min)\":[],\n",
    "\"Per Contiguous Spans(Mean)\":[],\n",
    "\"Per Contiguous Spans(Std)\":[],\n",
    "\"Per Contiguous Spans(Max)\":[],\n",
    "\"Per Contiguous Spans(Min)\":[],\n",
    "}\n",
    "for fil in all_files:\n",
    "    print(fil)\n",
    "    spans = pd.read_csv(fil)['spans'].apply(eval)\n",
    "    texts = pd.read_csv(fil)['text']\n",
    "    num_contiguous_spans = []\n",
    "    len_contiguous_spans = []\n",
    "    per_contiguous_spans = [] #percentage of characters\n",
    "    \n",
    "    for j,contiguous_spans in enumerate(spans.apply(_contiguous_ranges)):\n",
    "        ## contiguous_spans is like [(1,3),(4,5),(6,9)]\n",
    "        num_contiguous_spans.append(len(contiguous_spans))\n",
    "        current = np.sum([end-start+1 for start,end in contiguous_spans])/len(texts[j])\n",
    "        len_contiguous_spans+=[end-start+1 for start,end in contiguous_spans]\n",
    "        per_contiguous_spans.append(current)\n",
    "\n",
    "\n",
    "\n",
    "    dic[\"Num Contiguous Spans(Mean)\"].append('%.2f' %np.mean(num_contiguous_spans))\n",
    "    dic[\"Num Contiguous Spans(Std)\"].append('%.2f' %np.std(num_contiguous_spans))\n",
    "    dic[\"Num Contiguous Spans(Max)\"].append('%.2f' % np.max(num_contiguous_spans))\n",
    "    dic[\"Num Contiguous Spans(Min)\"].append('%.2f' % np.min(num_contiguous_spans))\n",
    "    dic[\"Len Contiguous Spans(Mean)\"].append('%.2f' %np.mean(len_contiguous_spans))\n",
    "    dic[\"Len Contiguous Spans(Std)\"].append('%.2f' %np.std(len_contiguous_spans))\n",
    "    dic[\"Len Contiguous Spans(Max)\"].append('%.2f' % np.max(len_contiguous_spans))\n",
    "    dic[\"Len Contiguous Spans(Min)\"].append('%.2f' % np.min(len_contiguous_spans))\n",
    "    dic[\"Per Contiguous Spans(Mean)\"].append('%.2f' %np.mean(per_contiguous_spans))\n",
    "    dic[\"Per Contiguous Spans(Std)\"].append('%.2f' %np.std(per_contiguous_spans))\n",
    "    dic[\"Per Contiguous Spans(Max)\"].append('%.2f' % np.max(per_contiguous_spans))\n",
    "    dic[\"Per Contiguous Spans(Min)\"].append('%.2f' % np.min(per_contiguous_spans))"
   ]
  },
  {
   "cell_type": "code",
   "execution_count": 12,
   "metadata": {},
   "outputs": [
    {
     "output_type": "stream",
     "name": "stdout",
     "text": [
      "|                            |      0 |      1 |      2 |\n|:---------------------------|-------:|-------:|-------:|\n| Num Contiguous Spans(Mean) |   1.3  |   1.31 |   0.93 |\n| Num Contiguous Spans(Std)  |   0.84 |   0.74 |   0.62 |\n| Num Contiguous Spans(Max)  |  25    |   6    |   7    |\n| Num Contiguous Spans(Min)  |   0    |   0    |   0    |\n| Len Contiguous Spans(Mean) |  13.51 |  11.3  |   7.89 |\n| Len Contiguous Spans(Std)  |  38.57 |  20.76 |  17.86 |\n| Len Contiguous Spans(Max)  | 994    | 350    | 713    |\n| Len Contiguous Spans(Min)  |   1    |   1    |   3    |\n| Per Contiguous Spans(Mean) |   0.14 |   0.14 |   0.09 |\n| Per Contiguous Spans(Std)  |   0.2  |   0.2  |   0.14 |\n| Per Contiguous Spans(Max)  |   1    |   1    |   1    |\n| Per Contiguous Spans(Min)  |   0    |   0    |   0    |\n"
     ]
    }
   ],
   "source": [
    "print(pd.DataFrame(dic).T.to_markdown())"
   ]
  },
  {
   "cell_type": "code",
   "execution_count": null,
   "metadata": {},
   "outputs": [],
   "source": []
  }
 ]
}